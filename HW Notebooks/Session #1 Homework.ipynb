{
 "cells": [
  {
   "cell_type": "markdown",
   "metadata": {},
   "source": [
    "### Session #1 Homework"
   ]
  },
  {
   "cell_type": "code",
   "execution_count": 69,
   "metadata": {},
   "outputs": [
    {
     "name": "stdout",
     "output_type": "stream",
     "text": [
      "Q1 Answer: NumPy version 1.21.1 was installed\n"
     ]
    }
   ],
   "source": [
    "#Question 1\n",
    "\n",
    "import numpy as np\n",
    "\n",
    "print(f\"Q1 Answer: NumPy version {np.__version__} was installed\")"
   ]
  },
  {
   "cell_type": "code",
   "execution_count": 81,
   "metadata": {},
   "outputs": [
    {
     "name": "stdout",
     "output_type": "stream",
     "text": [
      "Q2 Answer: There are 11914 records in the dataset\n"
     ]
    }
   ],
   "source": [
    "#Question 2\n",
    "\n",
    "import pandas as pd\n",
    "\n",
    "raw_data = pd.read_csv(\"D:\\Zoomcamp\\MlZoomcamp\\data.csv\")\n",
    "\n",
    "print(f\"Q2 Answer: There are {raw_data.shape[0]} records in the dataset\")"
   ]
  },
  {
   "cell_type": "code",
   "execution_count": 71,
   "metadata": {},
   "outputs": [
    {
     "name": "stdout",
     "output_type": "stream",
     "text": [
      "Q3 Answer: The most frequent car manufacturers according to the dataset are Chevrolet, Ford and Volkswagen \n"
     ]
    }
   ],
   "source": [
    "#Question 3\n",
    "\n",
    "print(f\"Q3 Answer: The most frequent car manufacturers according to the dataset are {raw_data['Make'].value_counts()[:3].index[0]}, {raw_data['Make'].value_counts()[:3].index[1]} and {raw_data['Make'].value_counts()[:3].index[2]} \")"
   ]
  },
  {
   "cell_type": "code",
   "execution_count": 73,
   "metadata": {},
   "outputs": [
    {
     "name": "stdout",
     "output_type": "stream",
     "text": [
      "Q4 Answer: The number of unique Audi car models in the dataset is 34\n"
     ]
    }
   ],
   "source": [
    "#Question 4\n",
    "\n",
    "print(f\"Q4 Answer: The number of unique Audi car models in the dataset is {len(raw_data[raw_data['Make']=='Audi'].Model.unique())}\")"
   ]
  },
  {
   "cell_type": "code",
   "execution_count": 74,
   "metadata": {},
   "outputs": [
    {
     "name": "stdout",
     "output_type": "stream",
     "text": [
      "Q4 Answer: The number of columns in the dataset that have missing values is 5\n"
     ]
    }
   ],
   "source": [
    "#Question 5\n",
    "\n",
    "print(f\"Q5 Answer: The number of columns in the dataset that have missing values is {len(raw_data.columns[raw_data.isnull().any()].tolist())}\")"
   ]
  },
  {
   "cell_type": "code",
   "execution_count": 89,
   "metadata": {},
   "outputs": [
    {
     "name": "stdout",
     "output_type": "stream",
     "text": [
      "Q6.1 Answer: The median value of 'Engine Cylinders' column in the dataset is 6.0\n",
      "\n",
      "Q6.2 Answer: The most frequent value of 'Engine Cylinders' is 4.0\n",
      "\n",
      "Q6.4 Answer: The new median value of 'Engine Cylinders' column in the dataset is 6.0\n",
      "\n",
      "As is evident from above, filling the missing values with the most frequestn value has not changed the median value\n"
     ]
    }
   ],
   "source": [
    "#Question 6\n",
    "\n",
    "print(f\"Q6.1 Answer: The median value of 'Engine Cylinders' column in the dataset is {raw_data['Engine Cylinders'].median()}\\n\")\n",
    "\n",
    "print(f\"Q6.2 Answer: The most frequent value of 'Engine Cylinders' is {raw_data['Engine Cylinders'].mode()[0]}\\n\")\n",
    "\n",
    "mode = raw_data['Engine Cylinders'].mode()\n",
    "raw_data['Engine Cylinders'].fillna(value=mode, inplace=True) #filling NaN values with mode\n",
    "\n",
    "print(f\"Q6.4 Answer: The new median value of 'Engine Cylinders' column in the dataset is {raw_data['Engine Cylinders'].median()}\\n\")\n",
    "\n",
    "print(\"As is evident from above, filling the missing values with the most frequestn value has not changed the median value\")"
   ]
  },
  {
   "cell_type": "code",
   "execution_count": 129,
   "metadata": {},
   "outputs": [
    {
     "name": "stdout",
     "output_type": "stream",
     "text": [
      "Q7 Answer: The value of first element of w is 4.5949\n"
     ]
    }
   ],
   "source": [
    "#Question 7\n",
    "\n",
    "X = raw_data[raw_data['Make']=='Lotus'][[\"Engine HP\", \"Engine Cylinders\"]].drop_duplicates().values\n",
    "\n",
    "XTX = X.T.dot(X)\n",
    "\n",
    "XTX_inv = np.linalg.inv(XTX)\n",
    "\n",
    "y = [1100, 800, 750, 850, 1300, 1000, 1000, 1300, 800]\n",
    "\n",
    "w = XTX_inv.dot(X.T).dot(y)\n",
    "\n",
    "print(f\"Q7 Answer: The value of first element of w is {round(w[0],4)}\")"
   ]
  }
 ],
 "metadata": {
  "kernelspec": {
   "display_name": "test1",
   "language": "python",
   "name": "test1"
  },
  "language_info": {
   "codemirror_mode": {
    "name": "ipython",
    "version": 3
   },
   "file_extension": ".py",
   "mimetype": "text/x-python",
   "name": "python",
   "nbconvert_exporter": "python",
   "pygments_lexer": "ipython3",
   "version": "3.8.3"
  },
  "orig_nbformat": 4
 },
 "nbformat": 4,
 "nbformat_minor": 2
}
